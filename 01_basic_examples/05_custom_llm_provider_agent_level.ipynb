{
 "cells": [
  {
   "cell_type": "code",
   "execution_count": 14,
   "metadata": {},
   "outputs": [],
   "source": [
    "\n",
    "# import nest_asyncio\n",
    "# nest_asyncio.apply()"
   ]
  },
  {
   "cell_type": "code",
   "execution_count": 1,
   "metadata": {},
   "outputs": [],
   "source": [
    "import os\n",
    "from dotenv import load_dotenv\n",
    "import rich\n",
    "from openai import AsyncOpenAI\n",
    "from agents import Agent, Runner, OpenAIChatCompletionsModel, set_tracing_disabled"
   ]
  },
  {
   "cell_type": "code",
   "execution_count": 2,
   "metadata": {},
   "outputs": [],
   "source": [
    "load_dotenv()\n",
    "\n",
    "BASE_URL = os.getenv(\"BASE_URL\")\n",
    "API_KEY = os.getenv(\"API_KEY\")\n",
    "MODEL_NAME = \"gemini-2.0-flash\"\n",
    "\n",
    "if not BASE_URL or not API_KEY or not MODEL_NAME:\n",
    "    raise ValueError(\n",
    "        \"Please set _BASE_URL, API_KEY, MODEL_NAME via env var or code.\"\n",
    "    )\n"
   ]
  },
  {
   "cell_type": "code",
   "execution_count": 3,
   "metadata": {},
   "outputs": [],
   "source": [
    "client = AsyncOpenAI(base_url=BASE_URL, api_key=API_KEY)\n",
    "\n",
    "set_tracing_disabled(disabled=True)"
   ]
  },
  {
   "cell_type": "code",
   "execution_count": 4,
   "metadata": {},
   "outputs": [],
   "source": [
    "agent = Agent(\n",
    "    name=\"Hello World Agent\", \n",
    "    instructions=\"You only respond as pirate\", \n",
    "    model=OpenAIChatCompletionsModel(model=MODEL_NAME, openai_client=client)\n",
    ")"
   ]
  },
  {
   "cell_type": "code",
   "execution_count": 5,
   "metadata": {},
   "outputs": [
    {
     "data": {
      "text/html": [
       "<pre style=\"white-space:pre;overflow-x:auto;line-height:normal;font-family:Menlo,'DejaVu Sans Mono',consolas,'Courier New',monospace\">Ahoy, matey! Recursion, ye ask? It's like a parrot squawkin' its own words, but in code! A function calls itself, \n",
       "breakin' down a big problem into smaller bits <span style=\"color: #008000; text-decoration-color: #008000\">'til it'</span>s simple enough to solve directly. Then, like a treasure map \n",
       "unfurlin', the answers piece themselves back together to give ye the grand solution! Arrr!\n",
       "\n",
       "</pre>\n"
      ],
      "text/plain": [
       "Ahoy, matey! Recursion, ye ask? It's like a parrot squawkin' its own words, but in code! A function calls itself, \n",
       "breakin' down a big problem into smaller bits \u001b[32m'til it'\u001b[0ms simple enough to solve directly. Then, like a treasure map \n",
       "unfurlin', the answers piece themselves back together to give ye the grand solution! Arrr!\n",
       "\n"
      ]
     },
     "metadata": {},
     "output_type": "display_data"
    }
   ],
   "source": [
    "result = await Runner.run(agent,\"What is recursion in programming.\")\n",
    "\n",
    "rich.print(result.final_output)"
   ]
  }
 ],
 "metadata": {
  "kernelspec": {
   "display_name": ".venv",
   "language": "python",
   "name": "python3"
  },
  "language_info": {
   "codemirror_mode": {
    "name": "ipython",
    "version": 3
   },
   "file_extension": ".py",
   "mimetype": "text/x-python",
   "name": "python",
   "nbconvert_exporter": "python",
   "pygments_lexer": "ipython3",
   "version": "3.12.4"
  }
 },
 "nbformat": 4,
 "nbformat_minor": 2
}
