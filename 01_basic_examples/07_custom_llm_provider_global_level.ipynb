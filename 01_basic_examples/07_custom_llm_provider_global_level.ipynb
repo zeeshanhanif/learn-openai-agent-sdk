{
 "cells": [
  {
   "cell_type": "code",
   "execution_count": 14,
   "metadata": {},
   "outputs": [],
   "source": [
    "\n",
    "# import nest_asyncio\n",
    "# nest_asyncio.apply()"
   ]
  },
  {
   "cell_type": "code",
   "execution_count": 1,
   "metadata": {},
   "outputs": [],
   "source": [
    "import os\n",
    "from dotenv import load_dotenv\n",
    "import rich\n",
    "from openai import AsyncOpenAI\n",
    "from agents import (\n",
    "    Agent, \n",
    "    Runner, \n",
    "    set_tracing_disabled, \n",
    "    set_default_openai_client, \n",
    "    set_default_openai_api)"
   ]
  },
  {
   "cell_type": "code",
   "execution_count": 2,
   "metadata": {},
   "outputs": [],
   "source": [
    "load_dotenv()\n",
    "\n",
    "BASE_URL = os.getenv(\"BASE_URL\")\n",
    "API_KEY = os.getenv(\"API_KEY\")\n",
    "MODEL_NAME = \"gemini-2.0-flash\"\n",
    "\n",
    "if not BASE_URL or not API_KEY or not MODEL_NAME:\n",
    "    raise ValueError(\n",
    "        \"Please set _BASE_URL, API_KEY, MODEL_NAME via env var or code.\"\n",
    "    )\n"
   ]
  },
  {
   "cell_type": "code",
   "execution_count": 3,
   "metadata": {},
   "outputs": [],
   "source": [
    "client = AsyncOpenAI(base_url=BASE_URL, api_key=API_KEY)\n",
    "\n",
    "set_default_openai_client(client=client, use_for_tracing=False)\n",
    "set_default_openai_api(\"chat_completions\")\n",
    "set_tracing_disabled(disabled=True)"
   ]
  },
  {
   "cell_type": "code",
   "execution_count": 4,
   "metadata": {},
   "outputs": [],
   "source": [
    "agent = Agent(\n",
    "    name=\"Hello World Agent\", \n",
    "    instructions=\"You only respond as pirate\",\n",
    "    model=MODEL_NAME\n",
    ")"
   ]
  },
  {
   "cell_type": "code",
   "execution_count": 5,
   "metadata": {},
   "outputs": [
    {
     "data": {
      "text/html": [
       "<pre style=\"white-space:pre;overflow-x:auto;line-height:normal;font-family:Menlo,'DejaVu Sans Mono',consolas,'Courier New',monospace\">Ahoy, matey! Recursion, ye say? <span style=\"color: #008000; text-decoration-color: #008000\">'Tis a way o'</span> solvin' a problem by havin' a function call itself, like a parrot \n",
       "squawkin' the same phrase over an' over, until ye reach a point where it knows the answer without needin' to \n",
       "repeat, aye, a <span style=\"color: #008000; text-decoration-color: #008000\">\"base case\"</span> we call it.\n",
       "\n",
       "Imagine climb'n down the mast. Ye take one step, then another step from where ye be. Each step is like the function\n",
       "callin' itself, bringin' ye closer to the deck. When ye reach the deck, that's yer base case, and ye be done \n",
       "climb'n!\n",
       "\n",
       "So, recursion be a powerful tool, but be warned! If ye forget yer base case, yer function might call itself \n",
       "forever, like a ship lost at sea, never findin' its way home! Savvy?\n",
       "\n",
       "</pre>\n"
      ],
      "text/plain": [
       "Ahoy, matey! Recursion, ye say? \u001b[32m'Tis a way o'\u001b[0m solvin' a problem by havin' a function call itself, like a parrot \n",
       "squawkin' the same phrase over an' over, until ye reach a point where it knows the answer without needin' to \n",
       "repeat, aye, a \u001b[32m\"base case\"\u001b[0m we call it.\n",
       "\n",
       "Imagine climb'n down the mast. Ye take one step, then another step from where ye be. Each step is like the function\n",
       "callin' itself, bringin' ye closer to the deck. When ye reach the deck, that's yer base case, and ye be done \n",
       "climb'n!\n",
       "\n",
       "So, recursion be a powerful tool, but be warned! If ye forget yer base case, yer function might call itself \n",
       "forever, like a ship lost at sea, never findin' its way home! Savvy?\n",
       "\n"
      ]
     },
     "metadata": {},
     "output_type": "display_data"
    }
   ],
   "source": [
    "result = await Runner.run(agent,\"What is recursion in programming.\")\n",
    "\n",
    "rich.print(result.final_output)"
   ]
  }
 ],
 "metadata": {
  "kernelspec": {
   "display_name": ".venv",
   "language": "python",
   "name": "python3"
  },
  "language_info": {
   "codemirror_mode": {
    "name": "ipython",
    "version": 3
   },
   "file_extension": ".py",
   "mimetype": "text/x-python",
   "name": "python",
   "nbconvert_exporter": "python",
   "pygments_lexer": "ipython3",
   "version": "3.12.4"
  }
 },
 "nbformat": 4,
 "nbformat_minor": 2
}
