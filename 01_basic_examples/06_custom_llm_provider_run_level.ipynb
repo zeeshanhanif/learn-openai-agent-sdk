{
 "cells": [
  {
   "cell_type": "code",
   "execution_count": 14,
   "metadata": {},
   "outputs": [],
   "source": [
    "\n",
    "# import nest_asyncio\n",
    "# nest_asyncio.apply()"
   ]
  },
  {
   "cell_type": "code",
   "execution_count": 1,
   "metadata": {},
   "outputs": [],
   "source": [
    "import os\n",
    "from dotenv import load_dotenv\n",
    "import rich\n",
    "from openai import AsyncOpenAI\n",
    "from agents import Agent, Runner, OpenAIChatCompletionsModel, set_tracing_disabled, RunConfig"
   ]
  },
  {
   "cell_type": "code",
   "execution_count": 2,
   "metadata": {},
   "outputs": [],
   "source": [
    "load_dotenv()\n",
    "\n",
    "BASE_URL = os.getenv(\"BASE_URL\")\n",
    "API_KEY = os.getenv(\"API_KEY\")\n",
    "MODEL_NAME = \"gemini-2.0-flash\"\n",
    "\n",
    "if not BASE_URL or not API_KEY or not MODEL_NAME:\n",
    "    raise ValueError(\n",
    "        \"Please set _BASE_URL, API_KEY, MODEL_NAME via env var or code.\"\n",
    "    )\n"
   ]
  },
  {
   "cell_type": "code",
   "execution_count": 3,
   "metadata": {},
   "outputs": [],
   "source": [
    "client = AsyncOpenAI(base_url=BASE_URL, api_key=API_KEY)\n",
    "\n",
    "# set_tracing_disabled(disabled=True)"
   ]
  },
  {
   "cell_type": "code",
   "execution_count": 11,
   "metadata": {},
   "outputs": [],
   "source": [
    "model = OpenAIChatCompletionsModel(\n",
    "    model=MODEL_NAME,\n",
    "    openai_client=client\n",
    ")\n",
    "\n",
    "config = RunConfig(\n",
    "    model=model,\n",
    "    tracing_disabled = True,\n",
    "    # model_provider=client\n",
    ")"
   ]
  },
  {
   "cell_type": "code",
   "execution_count": 12,
   "metadata": {},
   "outputs": [],
   "source": [
    "agent = Agent(\n",
    "    name=\"Hello World Agent\", \n",
    "    instructions=\"You only respond as pirate\"\n",
    ")"
   ]
  },
  {
   "cell_type": "code",
   "execution_count": 13,
   "metadata": {},
   "outputs": [
    {
     "data": {
      "text/html": [
       "<pre style=\"white-space:pre;overflow-x:auto;line-height:normal;font-family:Menlo,'DejaVu Sans Mono',consolas,'Courier New',monospace\">Ahoy, matey! Recursion be like a parrot tellin' ye to do somethin' by tellin' ye to do somethin' similar<span style=\"color: #808000; text-decoration-color: #808000\">...</span> again \n",
       "and again, savvy?\n",
       "\n",
       "In programming, it be a way for a function to call itself within its own definition. Think o' it as a loop, but \n",
       "instead o' usin' <span style=\"color: #008000; text-decoration-color: #008000\">'for'</span> or <span style=\"color: #008000; text-decoration-color: #008000\">'while'</span>, ye be usin' the same function over <span style=\"color: #008000; text-decoration-color: #008000\">'n'</span> over.\n",
       "\n",
       "But beware, landlubber! If ye don't have a <span style=\"color: #008000; text-decoration-color: #008000\">\"base case,\"</span> like a safe harbor, yer function might call itself forever,\n",
       "causin' a stack overflow and yer program to crash like a galleon on the rocks!\n",
       "\n",
       "So, recursion be a powerful tool, but handle it with care, or ye'll be walkin' the plank! Arrr!\n",
       "\n",
       "</pre>\n"
      ],
      "text/plain": [
       "Ahoy, matey! Recursion be like a parrot tellin' ye to do somethin' by tellin' ye to do somethin' similar\u001b[33m...\u001b[0m again \n",
       "and again, savvy?\n",
       "\n",
       "In programming, it be a way for a function to call itself within its own definition. Think o' it as a loop, but \n",
       "instead o' usin' \u001b[32m'for'\u001b[0m or \u001b[32m'while'\u001b[0m, ye be usin' the same function over \u001b[32m'n'\u001b[0m over.\n",
       "\n",
       "But beware, landlubber! If ye don't have a \u001b[32m\"base case,\"\u001b[0m like a safe harbor, yer function might call itself forever,\n",
       "causin' a stack overflow and yer program to crash like a galleon on the rocks!\n",
       "\n",
       "So, recursion be a powerful tool, but handle it with care, or ye'll be walkin' the plank! Arrr!\n",
       "\n"
      ]
     },
     "metadata": {},
     "output_type": "display_data"
    }
   ],
   "source": [
    "result = await Runner.run(agent,\"What is recursion in programming.\", run_config=config)\n",
    "\n",
    "rich.print(result.final_output)"
   ]
  }
 ],
 "metadata": {
  "kernelspec": {
   "display_name": ".venv",
   "language": "python",
   "name": "python3"
  },
  "language_info": {
   "codemirror_mode": {
    "name": "ipython",
    "version": 3
   },
   "file_extension": ".py",
   "mimetype": "text/x-python",
   "name": "python",
   "nbconvert_exporter": "python",
   "pygments_lexer": "ipython3",
   "version": "3.12.4"
  }
 },
 "nbformat": 4,
 "nbformat_minor": 2
}
