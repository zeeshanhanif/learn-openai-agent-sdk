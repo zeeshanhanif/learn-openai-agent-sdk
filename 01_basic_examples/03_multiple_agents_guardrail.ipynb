{
 "cells": [
  {
   "cell_type": "code",
   "execution_count": 11,
   "metadata": {},
   "outputs": [],
   "source": [
    "import nest_asyncio\n",
    "nest_asyncio.apply()"
   ]
  },
  {
   "cell_type": "code",
   "execution_count": 12,
   "metadata": {},
   "outputs": [],
   "source": [
    "import os\n",
    "from dotenv import load_dotenv\n",
    "import rich\n",
    "from agents import Agent, Runner, GuardrailFunctionOutput, InputGuardrail\n",
    "from pydantic import BaseModel\n",
    "# import asyncio"
   ]
  },
  {
   "cell_type": "code",
   "execution_count": 13,
   "metadata": {},
   "outputs": [],
   "source": [
    "load_dotenv()\n",
    "\n",
    "api_key = os.getenv('OPENAI_API_KEY')\n",
    "MODEL = \"gpt-4o-mini\"\n",
    "# print(api_key)"
   ]
  },
  {
   "cell_type": "code",
   "execution_count": 14,
   "metadata": {},
   "outputs": [],
   "source": [
    "class HomeworkOutput(BaseModel):\n",
    "    is_homework: bool\n",
    "    reasoning: str"
   ]
  },
  {
   "cell_type": "code",
   "execution_count": 15,
   "metadata": {},
   "outputs": [],
   "source": [
    "math_tutor_agent = Agent(\n",
    "    name=\"Math Tutor\",\n",
    "    handoff_description = \"Specialist agent for math questions\",\n",
    "    instructions = \"You provide help with math problems. Explain your reasoning at each step and include examples.\",\n",
    "    model=MODEL\n",
    "    \n",
    ")\n",
    "\n",
    "history_tutor_agent = Agent(\n",
    "    name=\"History Tutor\",\n",
    "    handoff_description = \"Specialist agent for historical questions\",\n",
    "    instructions = \"You provide assistance with historical queries. Explain import events and context clearly.\",\n",
    "    model=MODEL\n",
    ")"
   ]
  },
  {
   "cell_type": "code",
   "execution_count": 16,
   "metadata": {},
   "outputs": [],
   "source": [
    "guardrail_agent = Agent(\n",
    "    name=\"Guardrail Check\",\n",
    "    instructions = \"Check if the user is asking about homework\",\n",
    "    output_type = HomeworkOutput,\n",
    "    # model=MODEL\n",
    ")"
   ]
  },
  {
   "cell_type": "code",
   "execution_count": 7,
   "metadata": {},
   "outputs": [],
   "source": [
    "async def homework_guardrail(ctx, agent, input_data):\n",
    "    result = await Runner.run(guardrail_agent, input_data, context=ctx.context)\n",
    "    final_output = result.final_output_as(HomeworkOutput)\n",
    "    rich.print(result)\n",
    "    rich.print(final_output)\n",
    "    return GuardrailFunctionOutput(\n",
    "        output_info = final_output,\n",
    "        tripwire_triggered = not final_output.is_homework\n",
    "    )"
   ]
  },
  {
   "cell_type": "markdown",
   "metadata": {},
   "source": [
    "Handoffs"
   ]
  },
  {
   "cell_type": "code",
   "execution_count": 8,
   "metadata": {},
   "outputs": [],
   "source": [
    "triage_agent = Agent(\n",
    "    name=\"Triage Agent\",\n",
    "    instructions = \"You determine which agent to use based on the user's homework question.\",\n",
    "    handoffs = [math_tutor_agent, history_tutor_agent],\n",
    "    input_guardrails= [\n",
    "        InputGuardrail(guardrail_function=homework_guardrail)\n",
    "    ],\n",
    "    model=MODEL\n",
    ")"
   ]
  },
  {
   "cell_type": "markdown",
   "metadata": {},
   "source": [
    "Run the agent Orchestration"
   ]
  },
  {
   "cell_type": "code",
   "execution_count": 9,
   "metadata": {},
   "outputs": [
    {
     "data": {
      "text/html": [
       "<pre style=\"white-space:pre;overflow-x:auto;line-height:normal;font-family:Menlo,'DejaVu Sans Mono',consolas,'Courier New',monospace\"><span style=\"color: #800080; text-decoration-color: #800080; font-weight: bold\">HomeworkOutput</span><span style=\"font-weight: bold\">(</span>\n",
       "    <span style=\"color: #808000; text-decoration-color: #808000\">is_homework</span>=<span style=\"color: #00ff00; text-decoration-color: #00ff00; font-style: italic\">True</span>,\n",
       "    <span style=\"color: #808000; text-decoration-color: #808000\">reasoning</span>=<span style=\"color: #008000; text-decoration-color: #008000\">'The question is factual and common in educational contexts, typically appearing in history lessons </span>\n",
       "<span style=\"color: #008000; text-decoration-color: #008000\">or quizzes.'</span>\n",
       "<span style=\"font-weight: bold\">)</span>\n",
       "</pre>\n"
      ],
      "text/plain": [
       "\u001b[1;35mHomeworkOutput\u001b[0m\u001b[1m(\u001b[0m\n",
       "    \u001b[33mis_homework\u001b[0m=\u001b[3;92mTrue\u001b[0m,\n",
       "    \u001b[33mreasoning\u001b[0m=\u001b[32m'The question is factual and common in educational contexts, typically appearing in history lessons \u001b[0m\n",
       "\u001b[32mor quizzes.'\u001b[0m\n",
       "\u001b[1m)\u001b[0m\n"
      ]
     },
     "metadata": {},
     "output_type": "display_data"
    },
    {
     "name": "stdout",
     "output_type": "stream",
     "text": [
      "The first president of the United States was George Washington. He took office on April 30, 1789, after being unanimously elected by the Electoral College. Washington is often referred to as the \"Father of His Country\" for his leadership during the American Revolutionary War and his role in drafting the U.S. Constitution. His presidency set many precedents for the office, including the tradition of a two-term limit, which was later formalized in the 22nd Amendment. Washington served two terms, leaving office in 1797, and is celebrated for his commitment to the principles of democracy and republicanism.\n"
     ]
    }
   ],
   "source": [
    "result = await Runner.run(\n",
    "    triage_agent,\n",
    "    \"who was the first president of the united states?\"\n",
    "    # \"Who won the first world war?\"\n",
    ")\n",
    "print(result.final_output)"
   ]
  },
  {
   "cell_type": "code",
   "execution_count": 10,
   "metadata": {},
   "outputs": [
    {
     "data": {
      "text/html": [
       "<pre style=\"white-space:pre;overflow-x:auto;line-height:normal;font-family:Menlo,'DejaVu Sans Mono',consolas,'Courier New',monospace\"><span style=\"color: #800080; text-decoration-color: #800080; font-weight: bold\">HomeworkOutput</span><span style=\"font-weight: bold\">(</span>\n",
       "    <span style=\"color: #808000; text-decoration-color: #808000\">is_homework</span>=<span style=\"color: #ff0000; text-decoration-color: #ff0000; font-style: italic\">False</span>,\n",
       "    <span style=\"color: #808000; text-decoration-color: #808000\">reasoning</span>=<span style=\"color: #008000; text-decoration-color: #008000\">\"The question 'what is life' is a philosophical or existential inquiry rather than a homework </span>\n",
       "<span style=\"color: #008000; text-decoration-color: #008000\">question. It often relates to discussions about the nature, purpose, and value of existence.\"</span>\n",
       "<span style=\"font-weight: bold\">)</span>\n",
       "</pre>\n"
      ],
      "text/plain": [
       "\u001b[1;35mHomeworkOutput\u001b[0m\u001b[1m(\u001b[0m\n",
       "    \u001b[33mis_homework\u001b[0m=\u001b[3;91mFalse\u001b[0m,\n",
       "    \u001b[33mreasoning\u001b[0m=\u001b[32m\"The\u001b[0m\u001b[32m question 'what is life' is a philosophical or existential inquiry rather than a homework \u001b[0m\n",
       "\u001b[32mquestion. It often relates to discussions about the nature, purpose, and value of existence.\"\u001b[0m\n",
       "\u001b[1m)\u001b[0m\n"
      ]
     },
     "metadata": {},
     "output_type": "display_data"
    },
    {
     "ename": "InputGuardrailTripwireTriggered",
     "evalue": "Guardrail InputGuardrail triggered tripwire",
     "output_type": "error",
     "traceback": [
      "\u001b[31m---------------------------------------------------------------------------\u001b[39m",
      "\u001b[31mInputGuardrailTripwireTriggered\u001b[39m           Traceback (most recent call last)",
      "\u001b[36mCell\u001b[39m\u001b[36m \u001b[39m\u001b[32mIn[10]\u001b[39m\u001b[32m, line 1\u001b[39m\n\u001b[32m----> \u001b[39m\u001b[32m1\u001b[39m result = \u001b[38;5;28;01mawait\u001b[39;00m Runner.run(\n\u001b[32m      2\u001b[39m     triage_agent,\n\u001b[32m      3\u001b[39m     \u001b[33m\"\u001b[39m\u001b[33mwhat is life\u001b[39m\u001b[33m\"\u001b[39m\n\u001b[32m      4\u001b[39m )\n\u001b[32m      5\u001b[39m \u001b[38;5;28mprint\u001b[39m(result.final_output)\n",
      "\u001b[36mFile \u001b[39m\u001b[32md:\\developmentData\\AI\\programs\\learn-openai-agent-sdk\\.venv\\Lib\\site-packages\\agents\\run.py:215\u001b[39m, in \u001b[36mRunner.run\u001b[39m\u001b[34m(cls, starting_agent, input, context, max_turns, hooks, run_config)\u001b[39m\n\u001b[32m    210\u001b[39m logger.debug(\n\u001b[32m    211\u001b[39m     \u001b[33mf\u001b[39m\u001b[33m\"\u001b[39m\u001b[33mRunning agent \u001b[39m\u001b[38;5;132;01m{\u001b[39;00mcurrent_agent.name\u001b[38;5;132;01m}\u001b[39;00m\u001b[33m (turn \u001b[39m\u001b[38;5;132;01m{\u001b[39;00mcurrent_turn\u001b[38;5;132;01m}\u001b[39;00m\u001b[33m)\u001b[39m\u001b[33m\"\u001b[39m,\n\u001b[32m    212\u001b[39m )\n\u001b[32m    214\u001b[39m \u001b[38;5;28;01mif\u001b[39;00m current_turn == \u001b[32m1\u001b[39m:\n\u001b[32m--> \u001b[39m\u001b[32m215\u001b[39m     input_guardrail_results, turn_result = \u001b[38;5;28;01mawait\u001b[39;00m asyncio.gather(\n\u001b[32m    216\u001b[39m         \u001b[38;5;28mcls\u001b[39m._run_input_guardrails(\n\u001b[32m    217\u001b[39m             starting_agent,\n\u001b[32m    218\u001b[39m             starting_agent.input_guardrails\n\u001b[32m    219\u001b[39m             + (run_config.input_guardrails \u001b[38;5;129;01mor\u001b[39;00m []),\n\u001b[32m    220\u001b[39m             copy.deepcopy(\u001b[38;5;28minput\u001b[39m),\n\u001b[32m    221\u001b[39m             context_wrapper,\n\u001b[32m    222\u001b[39m         ),\n\u001b[32m    223\u001b[39m         \u001b[38;5;28mcls\u001b[39m._run_single_turn(\n\u001b[32m    224\u001b[39m             agent=current_agent,\n\u001b[32m    225\u001b[39m             all_tools=all_tools,\n\u001b[32m    226\u001b[39m             original_input=original_input,\n\u001b[32m    227\u001b[39m             generated_items=generated_items,\n\u001b[32m    228\u001b[39m             hooks=hooks,\n\u001b[32m    229\u001b[39m             context_wrapper=context_wrapper,\n\u001b[32m    230\u001b[39m             run_config=run_config,\n\u001b[32m    231\u001b[39m             should_run_agent_start_hooks=should_run_agent_start_hooks,\n\u001b[32m    232\u001b[39m             tool_use_tracker=tool_use_tracker,\n\u001b[32m    233\u001b[39m         ),\n\u001b[32m    234\u001b[39m     )\n\u001b[32m    235\u001b[39m \u001b[38;5;28;01melse\u001b[39;00m:\n\u001b[32m    236\u001b[39m     turn_result = \u001b[38;5;28;01mawait\u001b[39;00m \u001b[38;5;28mcls\u001b[39m._run_single_turn(\n\u001b[32m    237\u001b[39m         agent=current_agent,\n\u001b[32m    238\u001b[39m         all_tools=all_tools,\n\u001b[32m   (...)\u001b[39m\u001b[32m    245\u001b[39m         tool_use_tracker=tool_use_tracker,\n\u001b[32m    246\u001b[39m     )\n",
      "\u001b[36mFile \u001b[39m\u001b[32m~\\AppData\\Local\\Programs\\Python\\Python312\\Lib\\asyncio\\tasks.py:385\u001b[39m, in \u001b[36mTask.__wakeup\u001b[39m\u001b[34m(self, future)\u001b[39m\n\u001b[32m    383\u001b[39m \u001b[38;5;28;01mdef\u001b[39;00m\u001b[38;5;250m \u001b[39m\u001b[34m__wakeup\u001b[39m(\u001b[38;5;28mself\u001b[39m, future):\n\u001b[32m    384\u001b[39m     \u001b[38;5;28;01mtry\u001b[39;00m:\n\u001b[32m--> \u001b[39m\u001b[32m385\u001b[39m         \u001b[43mfuture\u001b[49m\u001b[43m.\u001b[49m\u001b[43mresult\u001b[49m\u001b[43m(\u001b[49m\u001b[43m)\u001b[49m\n\u001b[32m    386\u001b[39m     \u001b[38;5;28;01mexcept\u001b[39;00m \u001b[38;5;167;01mBaseException\u001b[39;00m \u001b[38;5;28;01mas\u001b[39;00m exc:\n\u001b[32m    387\u001b[39m         \u001b[38;5;66;03m# This may also be a cancellation.\u001b[39;00m\n\u001b[32m    388\u001b[39m         \u001b[38;5;28mself\u001b[39m.__step(exc)\n",
      "\u001b[36mFile \u001b[39m\u001b[32m~\\AppData\\Local\\Programs\\Python\\Python312\\Lib\\asyncio\\tasks.py:314\u001b[39m, in \u001b[36mTask.__step_run_and_handle_result\u001b[39m\u001b[34m(***failed resolving arguments***)\u001b[39m\n\u001b[32m    310\u001b[39m \u001b[38;5;28;01mtry\u001b[39;00m:\n\u001b[32m    311\u001b[39m     \u001b[38;5;28;01mif\u001b[39;00m exc \u001b[38;5;129;01mis\u001b[39;00m \u001b[38;5;28;01mNone\u001b[39;00m:\n\u001b[32m    312\u001b[39m         \u001b[38;5;66;03m# We use the `send` method directly, because coroutines\u001b[39;00m\n\u001b[32m    313\u001b[39m         \u001b[38;5;66;03m# don't have `__iter__` and `__next__` methods.\u001b[39;00m\n\u001b[32m--> \u001b[39m\u001b[32m314\u001b[39m         result = \u001b[43mcoro\u001b[49m\u001b[43m.\u001b[49m\u001b[43msend\u001b[49m\u001b[43m(\u001b[49m\u001b[38;5;28;43;01mNone\u001b[39;49;00m\u001b[43m)\u001b[49m\n\u001b[32m    315\u001b[39m     \u001b[38;5;28;01melse\u001b[39;00m:\n\u001b[32m    316\u001b[39m         result = coro.throw(exc)\n",
      "\u001b[36mFile \u001b[39m\u001b[32md:\\developmentData\\AI\\programs\\learn-openai-agent-sdk\\.venv\\Lib\\site-packages\\agents\\run.py:835\u001b[39m, in \u001b[36mRunner._run_input_guardrails\u001b[39m\u001b[34m(cls, agent, guardrails, input, context)\u001b[39m\n\u001b[32m    828\u001b[39m         t.cancel()\n\u001b[32m    829\u001b[39m     _error_tracing.attach_error_to_current_span(\n\u001b[32m    830\u001b[39m         SpanError(\n\u001b[32m    831\u001b[39m             message=\u001b[33m\"\u001b[39m\u001b[33mGuardrail tripwire triggered\u001b[39m\u001b[33m\"\u001b[39m,\n\u001b[32m    832\u001b[39m             data={\u001b[33m\"\u001b[39m\u001b[33mguardrail\u001b[39m\u001b[33m\"\u001b[39m: result.guardrail.get_name()},\n\u001b[32m    833\u001b[39m         )\n\u001b[32m    834\u001b[39m     )\n\u001b[32m--> \u001b[39m\u001b[32m835\u001b[39m     \u001b[38;5;28;01mraise\u001b[39;00m InputGuardrailTripwireTriggered(result)\n\u001b[32m    836\u001b[39m \u001b[38;5;28;01melse\u001b[39;00m:\n\u001b[32m    837\u001b[39m     guardrail_results.append(result)\n",
      "\u001b[31mInputGuardrailTripwireTriggered\u001b[39m: Guardrail InputGuardrail triggered tripwire"
     ]
    }
   ],
   "source": [
    "result = await Runner.run(\n",
    "    triage_agent,\n",
    "    \"what is life\"\n",
    ")\n",
    "print(result.final_output)"
   ]
  }
 ],
 "metadata": {
  "kernelspec": {
   "display_name": ".venv",
   "language": "python",
   "name": "python3"
  },
  "language_info": {
   "codemirror_mode": {
    "name": "ipython",
    "version": 3
   },
   "file_extension": ".py",
   "mimetype": "text/x-python",
   "name": "python",
   "nbconvert_exporter": "python",
   "pygments_lexer": "ipython3",
   "version": "3.12.4"
  }
 },
 "nbformat": 4,
 "nbformat_minor": 2
}
